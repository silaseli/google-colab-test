{
  "nbformat": 4,
  "nbformat_minor": 0,
  "metadata": {
    "colab": {
      "name": "Untitled1.ipynb",
      "provenance": [],
      "authorship_tag": "ABX9TyPulwR9I5Ohim1tYjgrSyW2",
      "include_colab_link": true
    },
    "kernelspec": {
      "name": "python3",
      "display_name": "Python 3"
    },
    "language_info": {
      "name": "python"
    }
  },
  "cells": [
    {
      "cell_type": "markdown",
      "metadata": {
        "id": "view-in-github",
        "colab_type": "text"
      },
      "source": [
        "<a href=\"https://colab.research.google.com/github/silaseli/google-colab-test/blob/main/schrod.ipynb\" target=\"_parent\"><img src=\"https://colab.research.google.com/assets/colab-badge.svg\" alt=\"Open In Colab\"/></a>"
      ]
    },
    {
      "cell_type": "code",
      "source": [
        "!pip install findiff"
      ],
      "metadata": {
        "colab": {
          "base_uri": "https://localhost:8080/"
        },
        "id": "C03MNA04k6K-",
        "outputId": "a411b2e0-5c5d-4fb3-d61b-52a14a380236"
      },
      "execution_count": 2,
      "outputs": [
        {
          "output_type": "stream",
          "name": "stdout",
          "text": [
            "Looking in indexes: https://pypi.org/simple, https://us-python.pkg.dev/colab-wheels/public/simple/\n",
            "Collecting findiff\n",
            "  Downloading findiff-0.8.9.tar.gz (26 kB)\n",
            "Requirement already satisfied: numpy in /usr/local/lib/python3.7/dist-packages (from findiff) (1.21.6)\n",
            "Requirement already satisfied: scipy in /usr/local/lib/python3.7/dist-packages (from findiff) (1.4.1)\n",
            "Requirement already satisfied: sympy in /usr/local/lib/python3.7/dist-packages (from findiff) (1.7.1)\n",
            "Requirement already satisfied: mpmath>=0.19 in /usr/local/lib/python3.7/dist-packages (from sympy->findiff) (1.2.1)\n",
            "Building wheels for collected packages: findiff\n",
            "  Building wheel for findiff (setup.py) ... \u001b[?25l\u001b[?25hdone\n",
            "  Created wheel for findiff: filename=findiff-0.8.9-py3-none-any.whl size=29227 sha256=6940f838769b56a4689e7c1a18b54ef41dd4a79b64350692ec3d8826bfc5459f\n",
            "  Stored in directory: /root/.cache/pip/wheels/72/64/7b/009d4ccf603b1e1c1929d35c6c31071e7dca901546c2973e51\n",
            "Successfully built findiff\n",
            "Installing collected packages: findiff\n",
            "Successfully installed findiff-0.8.9\n"
          ]
        }
      ]
    },
    {
      "cell_type": "code",
      "execution_count": 3,
      "metadata": {
        "id": "-CfeohQXkvxb"
      },
      "outputs": [],
      "source": [
        "import numpy as np\n",
        "from scipy.sparse import diags\n",
        "from scipy.sparse.linalg import eigs\n",
        "from findiff import FinDiff\n",
        "x = np.linspace(-8, 8, 201) # define our grid\n",
        "energies, states = eigs(\n",
        "            -0.5 * FinDiff(0, x[1]-x[0], 2).matrix(x.shape) +                                        \n",
        "                        diags(0.5*x**2),\n",
        "                        k=10, which='SR')"
      ]
    },
    {
      "cell_type": "code",
      "source": [
        ""
      ],
      "metadata": {
        "id": "66ULgHCtk5Ev"
      },
      "execution_count": null,
      "outputs": []
    },
    {
      "cell_type": "code",
      "source": [
        ""
      ],
      "metadata": {
        "id": "vF0aOt1Ak50e"
      },
      "execution_count": null,
      "outputs": []
    },
    {
      "cell_type": "code",
      "source": [
        ""
      ],
      "metadata": {
        "id": "UP2XwTtGkyCO"
      },
      "execution_count": null,
      "outputs": []
    }
  ]
}